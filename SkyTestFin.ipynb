{
 "cells": [
  {
   "cell_type": "code",
   "execution_count": 1,
   "metadata": {},
   "outputs": [
    {
     "name": "stderr",
     "output_type": "stream",
     "text": [
      "2023-11-21 19:15:40,062\tINFO util.py:159 -- Missing packages: ['ipywidgets']. Run `pip install -U ipywidgets`, then restart the notebook server for rich notebook output.\n"
     ]
    }
   ],
   "source": [
    "import runhouse as rh"
   ]
  },
  {
   "cell_type": "code",
   "execution_count": 2,
   "metadata": {},
   "outputs": [],
   "source": [
    "cluster = rh.kubernetes_cluster(\n",
    "              name=\"cpu-cluster-sky1\",\n",
    "              instance_type=\"CPU\",\n",
    "              provider=\"kubernetes\",      \n",
    "          )"
   ]
  },
  {
   "cell_type": "code",
   "execution_count": 3,
   "metadata": {},
   "outputs": [],
   "source": [
    "cluster = rh.ondemand_cluster(\n",
    "              name=\"cpu-cluster-sky4\",\n",
    "              #instance_type=\"1CPU--1GB\",\n",
    "              provider=\"kubernetes\",      # options: \"AWS\", \"GCP\", \"Azure\", \"Lambda\", or \"cheapest\"\n",
    "              #num_instances=2\n",
    "          )"
   ]
  },
  {
   "cell_type": "code",
   "execution_count": 3,
   "metadata": {},
   "outputs": [
    {
     "data": {
      "text/plain": [
       "'1CPU--1GB'"
      ]
     },
     "execution_count": 3,
     "metadata": {},
     "output_type": "execute_result"
    }
   ],
   "source": [
    "cluster.instance_type"
   ]
  },
  {
   "cell_type": "code",
   "execution_count": 4,
   "metadata": {},
   "outputs": [
    {
     "name": "stdout",
     "output_type": "stream",
     "text": [
      "I 11-21 19:15:46 optimizer.py:1045] No resource satisfying Kubernetes(1CPU--1GB) on Kubernetes.\n"
     ]
    },
    {
     "ename": "ResourcesUnavailableError",
     "evalue": "Kubernetes cluster does not contain any instances satisfying the request:\nTask(run=<empty>)\n  nodes: 2\n  resources: Kubernetes(1CPU--1GB).\n\nTo fix: relax or change the resource requirements.\n\nHint: \u001b[1msky show-gpus\u001b[0m to list available accelerators.\n      \u001b[1msky check\u001b[0m to check the enabled clouds.",
     "output_type": "error",
     "traceback": [
      "\u001b[0;31m---------------------------------------------------------------------------\u001b[0m",
      "\u001b[0;31mResourcesUnavailableError\u001b[0m                 Traceback (most recent call last)",
      "Cell \u001b[0;32mIn[4], line 1\u001b[0m\n\u001b[0;32m----> 1\u001b[0m cluster\u001b[39m.\u001b[39;49mup_if_not()\n",
      "File \u001b[0;32m~/Desktop/sky_new/runhouse/runhouse/resources/hardware/cluster.py:198\u001b[0m, in \u001b[0;36mCluster.up_if_not\u001b[0;34m(self)\u001b[0m\n\u001b[1;32m    194\u001b[0m     \u001b[39mif\u001b[39;00m \u001b[39mnot\u001b[39;00m \u001b[39mhasattr\u001b[39m(\u001b[39mself\u001b[39m, \u001b[39m\"\u001b[39m\u001b[39mup\u001b[39m\u001b[39m\"\u001b[39m):\n\u001b[1;32m    195\u001b[0m         \u001b[39mraise\u001b[39;00m \u001b[39mNotImplementedError\u001b[39;00m(\n\u001b[1;32m    196\u001b[0m             \u001b[39mf\u001b[39m\u001b[39m\"\u001b[39m\u001b[39mCluster <\u001b[39m\u001b[39m{\u001b[39;00m\u001b[39mself\u001b[39m\u001b[39m.\u001b[39mname\u001b[39m}\u001b[39;00m\u001b[39m> does not have an up method.\u001b[39m\u001b[39m\"\u001b[39m\n\u001b[1;32m    197\u001b[0m         )\n\u001b[0;32m--> 198\u001b[0m     \u001b[39mself\u001b[39;49m\u001b[39m.\u001b[39;49mup()\n\u001b[1;32m    199\u001b[0m \u001b[39mreturn\u001b[39;00m \u001b[39mself\u001b[39m\n",
      "File \u001b[0;32m~/Desktop/sky_new/runhouse/runhouse/resources/hardware/on_demand_cluster.py:380\u001b[0m, in \u001b[0;36mOnDemandCluster.up\u001b[0;34m(self)\u001b[0m\n\u001b[1;32m    373\u001b[0m         task\u001b[39m.\u001b[39mset_file_mounts(\n\u001b[1;32m    374\u001b[0m             {\n\u001b[1;32m    375\u001b[0m                 \u001b[39m\"\u001b[39m\u001b[39m~/.rh\u001b[39m\u001b[39m\"\u001b[39m: \u001b[39m\"\u001b[39m\u001b[39m~/.rh\u001b[39m\u001b[39m\"\u001b[39m,\n\u001b[1;32m    376\u001b[0m             }\n\u001b[1;32m    377\u001b[0m         )\n\u001b[1;32m    378\u001b[0m     \u001b[39m# If we choose to reduce collisions of cluster names:\u001b[39;00m\n\u001b[1;32m    379\u001b[0m     \u001b[39m# cluster_name = self.rns_address.strip('~/').replace(\"/\", \"-\")\u001b[39;00m\n\u001b[0;32m--> 380\u001b[0m     sky\u001b[39m.\u001b[39;49mlaunch(\n\u001b[1;32m    381\u001b[0m         task,\n\u001b[1;32m    382\u001b[0m         cluster_name\u001b[39m=\u001b[39;49m\u001b[39mself\u001b[39;49m\u001b[39m.\u001b[39;49mname,\n\u001b[1;32m    383\u001b[0m         idle_minutes_to_autostop\u001b[39m=\u001b[39;49m\u001b[39mself\u001b[39;49m\u001b[39m.\u001b[39;49mautostop_mins,\n\u001b[1;32m    384\u001b[0m         down\u001b[39m=\u001b[39;49m\u001b[39mTrue\u001b[39;49;00m,\n\u001b[1;32m    385\u001b[0m         stream_logs\u001b[39m=\u001b[39;49m\u001b[39mTrue\u001b[39;49;00m\n\u001b[1;32m    386\u001b[0m         \n\u001b[1;32m    387\u001b[0m     )\n\u001b[1;32m    388\u001b[0m \u001b[39m# elif self.provider == \"k8s\":\u001b[39;00m\n\u001b[1;32m    389\u001b[0m \u001b[39m#     raise NotImplementedError(\"Kubernetes Cluster provider not yet supported\")\u001b[39;00m\n\u001b[1;32m    390\u001b[0m \u001b[39melse\u001b[39;00m:\n\u001b[1;32m    391\u001b[0m     \u001b[39mraise\u001b[39;00m \u001b[39mValueError\u001b[39;00m(\u001b[39mf\u001b[39m\u001b[39m\"\u001b[39m\u001b[39mCluster provider \u001b[39m\u001b[39m{\u001b[39;00m\u001b[39mself\u001b[39m\u001b[39m.\u001b[39mprovider\u001b[39m}\u001b[39;00m\u001b[39m not supported.\u001b[39m\u001b[39m\"\u001b[39m)\n",
      "File \u001b[0;32m~/anaconda3/envs/sky_demo_2/lib/python3.10/site-packages/sky/utils/common_utils.py:332\u001b[0m, in \u001b[0;36mmake_decorator.<locals>._record\u001b[0;34m(*args, **kwargs)\u001b[0m\n\u001b[1;32m    330\u001b[0m     full_name \u001b[39m=\u001b[39m func_name\n\u001b[1;32m    331\u001b[0m \u001b[39mwith\u001b[39;00m \u001b[39mcls\u001b[39m(full_name, \u001b[39m*\u001b[39m\u001b[39m*\u001b[39mctx_kwargs):\n\u001b[0;32m--> 332\u001b[0m     \u001b[39mreturn\u001b[39;00m f(\u001b[39m*\u001b[39;49margs, \u001b[39m*\u001b[39;49m\u001b[39m*\u001b[39;49mkwargs)\n",
      "File \u001b[0;32m~/anaconda3/envs/sky_demo_2/lib/python3.10/site-packages/sky/utils/common_utils.py:332\u001b[0m, in \u001b[0;36mmake_decorator.<locals>._record\u001b[0;34m(*args, **kwargs)\u001b[0m\n\u001b[1;32m    330\u001b[0m     full_name \u001b[39m=\u001b[39m func_name\n\u001b[1;32m    331\u001b[0m \u001b[39mwith\u001b[39;00m \u001b[39mcls\u001b[39m(full_name, \u001b[39m*\u001b[39m\u001b[39m*\u001b[39mctx_kwargs):\n\u001b[0;32m--> 332\u001b[0m     \u001b[39mreturn\u001b[39;00m f(\u001b[39m*\u001b[39;49margs, \u001b[39m*\u001b[39;49m\u001b[39m*\u001b[39;49mkwargs)\n",
      "File \u001b[0;32m~/anaconda3/envs/sky_demo_2/lib/python3.10/site-packages/sky/execution.py:488\u001b[0m, in \u001b[0;36mlaunch\u001b[0;34m(task, cluster_name, retry_until_up, idle_minutes_to_autostop, dryrun, down, stream_logs, backend, optimize_target, detach_setup, detach_run, no_setup, clone_disk_from, _is_launched_by_spot_controller)\u001b[0m\n\u001b[1;32m    484\u001b[0m entrypoint \u001b[39m=\u001b[39m task\n\u001b[1;32m    485\u001b[0m backend_utils\u001b[39m.\u001b[39mcheck_cluster_name_not_reserved(cluster_name,\n\u001b[1;32m    486\u001b[0m                                               operation_str\u001b[39m=\u001b[39m\u001b[39m'\u001b[39m\u001b[39msky.launch\u001b[39m\u001b[39m'\u001b[39m)\n\u001b[0;32m--> 488\u001b[0m _execute(\n\u001b[1;32m    489\u001b[0m     entrypoint\u001b[39m=\u001b[39;49mentrypoint,\n\u001b[1;32m    490\u001b[0m     dryrun\u001b[39m=\u001b[39;49mdryrun,\n\u001b[1;32m    491\u001b[0m     down\u001b[39m=\u001b[39;49mdown,\n\u001b[1;32m    492\u001b[0m     stream_logs\u001b[39m=\u001b[39;49mstream_logs,\n\u001b[1;32m    493\u001b[0m     handle\u001b[39m=\u001b[39;49m\u001b[39mNone\u001b[39;49;00m,\n\u001b[1;32m    494\u001b[0m     backend\u001b[39m=\u001b[39;49mbackend,\n\u001b[1;32m    495\u001b[0m     retry_until_up\u001b[39m=\u001b[39;49mretry_until_up,\n\u001b[1;32m    496\u001b[0m     optimize_target\u001b[39m=\u001b[39;49moptimize_target,\n\u001b[1;32m    497\u001b[0m     cluster_name\u001b[39m=\u001b[39;49mcluster_name,\n\u001b[1;32m    498\u001b[0m     detach_setup\u001b[39m=\u001b[39;49mdetach_setup,\n\u001b[1;32m    499\u001b[0m     detach_run\u001b[39m=\u001b[39;49mdetach_run,\n\u001b[1;32m    500\u001b[0m     idle_minutes_to_autostop\u001b[39m=\u001b[39;49midle_minutes_to_autostop,\n\u001b[1;32m    501\u001b[0m     no_setup\u001b[39m=\u001b[39;49mno_setup,\n\u001b[1;32m    502\u001b[0m     clone_disk_from\u001b[39m=\u001b[39;49mclone_disk_from,\n\u001b[1;32m    503\u001b[0m     _is_launched_by_spot_controller\u001b[39m=\u001b[39;49m_is_launched_by_spot_controller,\n\u001b[1;32m    504\u001b[0m )\n",
      "File \u001b[0;32m~/anaconda3/envs/sky_demo_2/lib/python3.10/site-packages/sky/execution.py:310\u001b[0m, in \u001b[0;36m_execute\u001b[0;34m(entrypoint, dryrun, down, stream_logs, handle, backend, retry_until_up, optimize_target, stages, cluster_name, detach_setup, detach_run, idle_minutes_to_autostop, no_setup, clone_disk_from, _is_launched_by_spot_controller)\u001b[0m\n\u001b[1;32m    302\u001b[0m \u001b[39mif\u001b[39;00m task\u001b[39m.\u001b[39mbest_resources \u001b[39mis\u001b[39;00m \u001b[39mNone\u001b[39;00m:\n\u001b[1;32m    303\u001b[0m     \u001b[39m# TODO: fix this for the situation where number of requested\u001b[39;00m\n\u001b[1;32m    304\u001b[0m     \u001b[39m# accelerators is not an integer.\u001b[39;00m\n\u001b[1;32m    305\u001b[0m     \u001b[39mif\u001b[39;00m \u001b[39misinstance\u001b[39m(backend, backends\u001b[39m.\u001b[39mCloudVmRayBackend):\n\u001b[1;32m    306\u001b[0m         \u001b[39m# TODO: adding this check because docker backend on a\u001b[39;00m\n\u001b[1;32m    307\u001b[0m         \u001b[39m# no-credential machine should not enter optimize(), which\u001b[39;00m\n\u001b[1;32m    308\u001b[0m         \u001b[39m# would directly error out ('No cloud is enabled...').  Fix\u001b[39;00m\n\u001b[1;32m    309\u001b[0m         \u001b[39m# by moving `sky check` checks out of optimize()?\u001b[39;00m\n\u001b[0;32m--> 310\u001b[0m         dag \u001b[39m=\u001b[39m sky\u001b[39m.\u001b[39;49moptimize(dag, minimize\u001b[39m=\u001b[39;49moptimize_target)\n\u001b[1;32m    311\u001b[0m         task \u001b[39m=\u001b[39m dag\u001b[39m.\u001b[39mtasks[\u001b[39m0\u001b[39m]  \u001b[39m# Keep: dag may have been deep-copied.\u001b[39;00m\n\u001b[1;32m    312\u001b[0m         \u001b[39massert\u001b[39;00m task\u001b[39m.\u001b[39mbest_resources \u001b[39mis\u001b[39;00m \u001b[39mnot\u001b[39;00m \u001b[39mNone\u001b[39;00m, task\n",
      "File \u001b[0;32m~/anaconda3/envs/sky_demo_2/lib/python3.10/site-packages/sky/optimizer.py:117\u001b[0m, in \u001b[0;36mOptimizer.optimize\u001b[0;34m(dag, minimize, blocked_resources, quiet)\u001b[0m\n\u001b[1;32m    115\u001b[0m Optimizer\u001b[39m.\u001b[39m_add_dummy_source_sink_nodes(dag)\n\u001b[1;32m    116\u001b[0m \u001b[39mtry\u001b[39;00m:\n\u001b[0;32m--> 117\u001b[0m     unused_best_plan \u001b[39m=\u001b[39m Optimizer\u001b[39m.\u001b[39;49m_optimize_objective(\n\u001b[1;32m    118\u001b[0m         dag,\n\u001b[1;32m    119\u001b[0m         minimize_cost\u001b[39m=\u001b[39;49mminimize \u001b[39m==\u001b[39;49m OptimizeTarget\u001b[39m.\u001b[39;49mCOST,\n\u001b[1;32m    120\u001b[0m         blocked_resources\u001b[39m=\u001b[39;49mblocked_resources,\n\u001b[1;32m    121\u001b[0m         quiet\u001b[39m=\u001b[39;49mquiet)\n\u001b[1;32m    122\u001b[0m \u001b[39mfinally\u001b[39;00m:\n\u001b[1;32m    123\u001b[0m     \u001b[39m# Make sure to remove the dummy source/sink nodes, even if the\u001b[39;00m\n\u001b[1;32m    124\u001b[0m     \u001b[39m# optimization fails.\u001b[39;00m\n\u001b[1;32m    125\u001b[0m     Optimizer\u001b[39m.\u001b[39m_remove_dummy_source_sink_nodes(dag)\n",
      "File \u001b[0;32m~/anaconda3/envs/sky_demo_2/lib/python3.10/site-packages/sky/optimizer.py:872\u001b[0m, in \u001b[0;36mOptimizer._optimize_objective\u001b[0;34m(dag, minimize_cost, blocked_resources, quiet)\u001b[0m\n\u001b[1;32m    868\u001b[0m graph \u001b[39m=\u001b[39m dag\u001b[39m.\u001b[39mget_graph()\n\u001b[1;32m    869\u001b[0m topo_order \u001b[39m=\u001b[39m \u001b[39mlist\u001b[39m(nx\u001b[39m.\u001b[39mtopological_sort(graph))\n\u001b[1;32m    871\u001b[0m node_to_cost_map, node_to_candidate_map \u001b[39m=\u001b[39m (\n\u001b[0;32m--> 872\u001b[0m     Optimizer\u001b[39m.\u001b[39;49m_estimate_nodes_cost_or_time(topo_order, minimize_cost,\n\u001b[1;32m    873\u001b[0m                                            blocked_resources))\n\u001b[1;32m    875\u001b[0m \u001b[39mif\u001b[39;00m dag\u001b[39m.\u001b[39mis_chain():\n\u001b[1;32m    876\u001b[0m     best_plan, best_total_objective \u001b[39m=\u001b[39m Optimizer\u001b[39m.\u001b[39m_optimize_by_dp(\n\u001b[1;32m    877\u001b[0m         topo_order, node_to_cost_map, minimize_cost)\n",
      "File \u001b[0;32m~/anaconda3/envs/sky_demo_2/lib/python3.10/site-packages/sky/optimizer.py:315\u001b[0m, in \u001b[0;36mOptimizer._estimate_nodes_cost_or_time\u001b[0;34m(topo_order, minimize_cost, blocked_resources)\u001b[0m\n\u001b[1;32m    305\u001b[0m     error_msg \u001b[39m=\u001b[39m (\n\u001b[1;32m    306\u001b[0m         \u001b[39mf\u001b[39m\u001b[39m'\u001b[39m\u001b[39m{\u001b[39;00msource_hint\u001b[39m.\u001b[39mcapitalize()\u001b[39m}\u001b[39;00m\u001b[39m does not contain any \u001b[39m\u001b[39m'\u001b[39m\n\u001b[1;32m    307\u001b[0m         \u001b[39mf\u001b[39m\u001b[39m'\u001b[39m\u001b[39minstances satisfying the request:\u001b[39m\u001b[39m\\n\u001b[39;00m\u001b[39m{\u001b[39;00mnode\u001b[39m}\u001b[39;00m\u001b[39m.\u001b[39m\u001b[39m'\u001b[39m\n\u001b[0;32m   (...)\u001b[0m\n\u001b[1;32m    312\u001b[0m         \u001b[39mf\u001b[39m\u001b[39m'\u001b[39m\u001b[39m      \u001b[39m\u001b[39m{\u001b[39;00mbold\u001b[39m}\u001b[39;00m\u001b[39msky check\u001b[39m\u001b[39m{\u001b[39;00mreset\u001b[39m}\u001b[39;00m\u001b[39m to check the enabled \u001b[39m\u001b[39m'\u001b[39m\n\u001b[1;32m    313\u001b[0m         \u001b[39m'\u001b[39m\u001b[39mclouds.\u001b[39m\u001b[39m'\u001b[39m)\n\u001b[1;32m    314\u001b[0m     \u001b[39mwith\u001b[39;00m ux_utils\u001b[39m.\u001b[39mprint_exception_no_traceback():\n\u001b[0;32m--> 315\u001b[0m         \u001b[39mraise\u001b[39;00m exceptions\u001b[39m.\u001b[39mResourcesUnavailableError(error_msg)\n\u001b[1;32m    316\u001b[0m \u001b[39mif\u001b[39;00m num_resources \u001b[39m==\u001b[39m \u001b[39m1\u001b[39m \u001b[39mand\u001b[39;00m node\u001b[39m.\u001b[39mtime_estimator_func \u001b[39mis\u001b[39;00m \u001b[39mNone\u001b[39;00m:\n\u001b[1;32m    317\u001b[0m     logger\u001b[39m.\u001b[39mdebug(\n\u001b[1;32m    318\u001b[0m         \u001b[39m'\u001b[39m\u001b[39mDefaulting the task\u001b[39m\u001b[39m\\'\u001b[39;00m\u001b[39ms estimated time to 1 hour.\u001b[39m\u001b[39m'\u001b[39m)\n",
      "\u001b[0;31mResourcesUnavailableError\u001b[0m: Kubernetes cluster does not contain any instances satisfying the request:\nTask(run=<empty>)\n  nodes: 2\n  resources: Kubernetes(1CPU--1GB).\n\nTo fix: relax or change the resource requirements.\n\nHint: \u001b[1msky show-gpus\u001b[0m to list available accelerators.\n      \u001b[1msky check\u001b[0m to check the enabled clouds."
     ]
    }
   ],
   "source": [
    "cluster.up_if_not()"
   ]
  },
  {
   "cell_type": "code",
   "execution_count": 4,
   "metadata": {},
   "outputs": [],
   "source": [
    "def num_cpus():\n",
    "    import multiprocessing\n",
    "    return f\"Num cpus: {multiprocessing.cpu_count()}\""
   ]
  },
  {
   "cell_type": "code",
   "execution_count": 5,
   "metadata": {},
   "outputs": [
    {
     "name": "stderr",
     "output_type": "stream",
     "text": [
      "INFO | 2023-11-21 10:19:18.288625 | Writing out function to /Users/rohansreerama/Desktop/sky_new/runhouse/num_cpus_fn.py. Please make sure the function does not rely on any local variables, including imports (which should be moved inside the function body).\n",
      "/Users/rohansreerama/Desktop/sky_new/runhouse/runhouse/resources/function.py:99: UserWarning: ``reqs`` and ``setup_cmds`` arguments has been deprecated. Please use ``env`` instead.\n",
      "  warnings.warn(\n",
      "INFO | 2023-11-21 10:19:18.292351 | Setting up Function on cluster.\n",
      "INFO | 2023-11-21 10:19:18.292930 | Forwarding port 32300 to port 32300 on localhost.\n",
      "INFO | 2023-11-21 10:19:18.293450 | Running command: ssh -T -L 32300:localhost:32300 -i ~/.ssh/sky-key -o Port=22 -o StrictHostKeyChecking=no -o UserKnownHostsFile=/dev/null -o IdentitiesOnly=yes -o ExitOnForwardFailure=yes -o ServerAliveInterval=5 -o ServerAliveCountMax=3 -o ConnectTimeout=30s -o ForwardAgent=yes -o ProxyCommand='ssh -tt -i ~/.ssh/sky-key -o StrictHostKeyChecking=no -o UserKnownHostsFile=/dev/null -o IdentitiesOnly=yes -p 23100 -W %h:%p sky@127.0.0.1 -o ProxyCommand='\"'\"'/Users/rohansreerama/.sky/port-forward-proxy-cmd.sh'\"'\"' ' sky@10.123.4.164 tail\n",
      "Connection to 127.0.0.1 port 23100 [tcp/*] succeeded!\n",
      "Warning: Permanently added '[127.0.0.1]:23100' (ED25519) to the list of known hosts.\n",
      "Warning: Permanently added '10.123.4.164' (ED25519) to the list of known hosts.\n",
      "INFO | 2023-11-21 10:19:21.304082 | Connecting to server via SSH, port forwarding via port 32300.\n",
      "INFO | 2023-11-21 10:19:21.310474 | Checking server cpu-cluster-sky2\n",
      "INFO | 2023-11-21 10:19:21.494033 | Server cpu-cluster-sky2 is up.\n",
      "INFO | 2023-11-21 10:19:21.498229 | Copying package from file:///Users/rohansreerama/Desktop/sky_new/runhouse to: cpu-cluster-sky2\n",
      "INFO | 2023-11-21 10:19:21.499955 | Running command: ssh -T -i ~/.ssh/sky-key -o Port=22 -o StrictHostKeyChecking=no -o UserKnownHostsFile=/dev/null -o IdentitiesOnly=yes -o ExitOnForwardFailure=yes -o ServerAliveInterval=5 -o ServerAliveCountMax=3 -o ConnectTimeout=30s -o ForwardAgent=yes -o ProxyCommand='ssh -tt -i ~/.ssh/sky-key -o StrictHostKeyChecking=no -o UserKnownHostsFile=/dev/null -o IdentitiesOnly=yes -p 23100 -W %h:%p sky@127.0.0.1 -o ProxyCommand='\"'\"'/Users/rohansreerama/.sky/port-forward-proxy-cmd.sh'\"'\"' ' sky@10.123.4.164 'bash --login -c -i '\"'\"'true && source ~/.bashrc && export OMP_NUM_THREADS=1 PYTHONWARNINGS=ignore && (mkdir -p ~/runhouse/)'\"'\"' 2>&1'\n",
      "INFO | 2023-11-21 10:19:44.569572 | Calling base_env.install\n"
     ]
    },
    {
     "name": "stdout",
     "output_type": "stream",
     "text": [
      "base_env servlet: Calling method install on module base_env\n",
      "Installing package: Package: runhouse\n",
      "Installing Package: runhouse with method reqs.\n",
      "reqs path: runhouse/requirements.txt\n",
      "pip installing requirements from runhouse/requirements.txt with: -r runhouse/requirements.txt\n",
      "Running: /opt/conda/bin/python -m pip install -r runhouse/requirements.txt\n"
     ]
    },
    {
     "name": "stderr",
     "output_type": "stream",
     "text": [
      "INFO | 2023-11-21 10:19:47.127044 | Time to call base_env.install: 2.56 seconds\n",
      "INFO | 2023-11-21 10:19:47.538031 | Function setup complete.\n"
     ]
    }
   ],
   "source": [
    "num_cpus_cluster = rh.function(name=\"num_cpus_cluster\", fn=num_cpus).to(system=cluster, reqs=[\"./\"])"
   ]
  },
  {
   "cell_type": "code",
   "execution_count": 6,
   "metadata": {},
   "outputs": [
    {
     "name": "stderr",
     "output_type": "stream",
     "text": [
      "INFO | 2023-11-21 10:20:41.359641 | Calling num_cpus_cluster.call\n"
     ]
    },
    {
     "name": "stdout",
     "output_type": "stream",
     "text": [
      "base_env servlet: Calling method call on module num_cpus_cluster\n"
     ]
    },
    {
     "name": "stderr",
     "output_type": "stream",
     "text": [
      "INFO | 2023-11-21 10:20:41.684497 | Time to call num_cpus_cluster.call: 0.32 seconds\n"
     ]
    },
    {
     "data": {
      "text/plain": [
       "'Num cpus: 4'"
      ]
     },
     "execution_count": 6,
     "metadata": {},
     "output_type": "execute_result"
    }
   ],
   "source": [
    "num_cpus_cluster()"
   ]
  }
 ],
 "metadata": {
  "kernelspec": {
   "display_name": "rh_fin_1",
   "language": "python",
   "name": "python3"
  },
  "language_info": {
   "codemirror_mode": {
    "name": "ipython",
    "version": 3
   },
   "file_extension": ".py",
   "mimetype": "text/x-python",
   "name": "python",
   "nbconvert_exporter": "python",
   "pygments_lexer": "ipython3",
   "version": "3.10.8"
  },
  "orig_nbformat": 4
 },
 "nbformat": 4,
 "nbformat_minor": 2
}
