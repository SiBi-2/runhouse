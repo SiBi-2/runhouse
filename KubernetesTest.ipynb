{
 "cells": [
  {
   "cell_type": "code",
   "execution_count": 1,
   "metadata": {},
   "outputs": [
    {
     "name": "stderr",
     "output_type": "stream",
     "text": [
      "2023-12-03 21:17:36,458\tINFO util.py:159 -- Missing packages: ['ipywidgets']. Run `pip install -U ipywidgets`, then restart the notebook server for rich notebook output.\n"
     ]
    }
   ],
   "source": [
    "import runhouse as rh"
   ]
  },
  {
   "cell_type": "code",
   "execution_count": 2,
   "metadata": {},
   "outputs": [
    {
     "name": "stdout",
     "output_type": "stream",
     "text": [
      "Context \"arn:aws:eks:us-east-1:172657097474:cluster/ro-eks-sky1\" modified.\n",
      "\n",
      "Kubernetes namespace set to default\n"
     ]
    }
   ],
   "source": [
    "# Simple invocation\n",
    "cluster = rh.kubernetes_cluster(\n",
    "              name=\"cpu-cluster-05\",\n",
    "              instance_type=\"1CPU--1GB\",\n",
    "          )"
   ]
  },
  {
   "cell_type": "code",
   "execution_count": 5,
   "metadata": {},
   "outputs": [
    {
     "name": "stdout",
     "output_type": "stream",
     "text": [
      "Context \"arn:aws:eks:us-east-1:172657097474:cluster/ro-eks-sky1\" modified.\n",
      "\n",
      "Kubernetes namespace set to default\n",
      "Switched to context \"arn:aws:eks:us-east-1:172657097474:cluster/ro-eks-sky1\".\n",
      "Kubernetes context has been set to: arn:aws:eks:us-east-1:172657097474:cluster/ro-eks-sky1\n"
     ]
    }
   ],
   "source": [
    "# Passing in a context \n",
    "cluster = rh.kubernetes_cluster(\n",
    "              name=\"cpu-cluster-06\",\n",
    "              instance_type=\"1CPU--1GB\",\n",
    "              context=\"arn:aws:eks:us-east-1:172657097474:cluster/ro-eks-sky1\"\n",
    "          )"
   ]
  },
  {
   "cell_type": "code",
   "execution_count": 2,
   "metadata": {},
   "outputs": [
    {
     "name": "stdout",
     "output_type": "stream",
     "text": [
      "Context \"arn:aws:eks:us-east-1:172657097474:cluster/ro-eks-sky1\" modified.\n",
      "\n",
      "Kubernetes namespace set to housemates\n"
     ]
    }
   ],
   "source": [
    "# Passing in a namespace \n",
    "cluster = rh.kubernetes_cluster(\n",
    "              name=\"cpu-cluster-06\",\n",
    "              instance_type=\"1CPU--1GB\",\n",
    "              namespace=\"test\", # make sure namespace exists  \n",
    "          )"
   ]
  },
  {
   "cell_type": "code",
   "execution_count": null,
   "metadata": {},
   "outputs": [],
   "source": [
    "# Passing in a kubeconfig path\n",
    "cluster = rh.kubernetes_cluster(\n",
    "              name=\"cpu-cluster-05\",\n",
    "              instance_type=\"1CPU--1GB\",\n",
    "              kube_config_path=\"~/Downloads/kubeconfig\"\n",
    "          )"
   ]
  },
  {
   "cell_type": "code",
   "execution_count": 3,
   "metadata": {},
   "outputs": [
    {
     "name": "stdout",
     "output_type": "stream",
     "text": [
      "I 12-03 21:17:43 optimizer.py:674] == Optimizer ==\n",
      "I 12-03 21:17:43 optimizer.py:697] \u001b[1mEstimated cost: \u001b[0m$0.0 / hour\n",
      "I 12-03 21:17:43 optimizer.py:697] \n",
      "I 12-03 21:17:43 optimizer.py:769] \u001b[1mConsidered resources (1 node):\u001b[0m\n",
      "I 12-03 21:17:43 optimizer.py:818] ---------------------------------------------------------------------------------------------\n",
      "I 12-03 21:17:43 optimizer.py:818]  CLOUD        INSTANCE    vCPUs   Mem(GB)   ACCELERATORS   REGION/ZONE   COST ($)   CHOSEN   \n",
      "I 12-03 21:17:43 optimizer.py:818] ---------------------------------------------------------------------------------------------\n",
      "I 12-03 21:17:43 optimizer.py:818]  \u001b[1mKubernetes\u001b[0m   \u001b[1m1CPU--1GB\u001b[0m   \u001b[1m1\u001b[0m       \u001b[1m1\u001b[0m         \u001b[1m-\u001b[0m              \u001b[1mkubernetes\u001b[0m    \u001b[1m0.00\u001b[0m       \u001b[1m\u001b[32m   ✔\u001b[0m\u001b[0m     \n",
      "I 12-03 21:17:43 optimizer.py:818] ---------------------------------------------------------------------------------------------\n",
      "I 12-03 21:17:43 optimizer.py:818] \n",
      "I 12-03 21:17:43 cloud_vm_ray_backend.py:4380] \u001b[36mCreating a new cluster: 'cpu-cluster-05' [1x Kubernetes(1CPU--1GB)].\u001b[0m\n",
      "I 12-03 21:17:43 cloud_vm_ray_backend.py:4380] Tip: to reuse an existing cluster, specify --cluster (-c). Run `sky status` to see existing clusters.\n",
      "I 12-03 21:17:43 cloud_vm_ray_backend.py:1449] To view detailed progress: \u001b[1mtail -n100 -f /Users/rohansreerama/sky_logs/sky-2023-12-03-21-17-43-341312/provision.log\u001b[0m\n",
      "I 12-03 21:17:45 cloud_vm_ray_backend.py:1884] \u001b[1mLaunching on Kubernetes \u001b[0m\n"
     ]
    },
    {
     "data": {
      "text/html": [
       "<pre style=\"white-space:pre;overflow-x:auto;line-height:normal;font-family:Menlo,'DejaVu Sans Mono',consolas,'Courier New',monospace\">/Users/rohansreerama/anaconda3/envs/sky_test_03/lib/python3.10/site-packages/rich/live.py:231: UserWarning: install\n",
       "\"ipywidgets\" for Jupyter support\n",
       "  warnings.warn('install \"ipywidgets\" for Jupyter support')\n",
       "</pre>\n"
      ],
      "text/plain": [
       "/Users/rohansreerama/anaconda3/envs/sky_test_03/lib/python3.10/site-packages/rich/live.py:231: UserWarning: install\n",
       "\"ipywidgets\" for Jupyter support\n",
       "  warnings.warn('install \"ipywidgets\" for Jupyter support')\n"
      ]
     },
     "metadata": {},
     "output_type": "display_data"
    },
    {
     "data": {
      "text/html": [
       "<pre style=\"white-space:pre;overflow-x:auto;line-height:normal;font-family:Menlo,'DejaVu Sans Mono',consolas,'Courier New',monospace\"></pre>\n"
      ],
      "text/plain": []
     },
     "metadata": {},
     "output_type": "display_data"
    },
    {
     "name": "stdout",
     "output_type": "stream",
     "text": [
      "I 12-03 21:17:55 log_utils.py:45] \u001b[32mHead node is up.\u001b[0m\n"
     ]
    },
    {
     "data": {
      "text/html": [
       "<pre style=\"white-space:pre;overflow-x:auto;line-height:normal;font-family:Menlo,'DejaVu Sans Mono',consolas,'Courier New',monospace\"></pre>\n"
      ],
      "text/plain": []
     },
     "metadata": {},
     "output_type": "display_data"
    },
    {
     "name": "stdout",
     "output_type": "stream",
     "text": [
      "I 12-03 21:18:09 cloud_vm_ray_backend.py:1692] \u001b[32mSuccessfully provisioned or found existing VM.\u001b[0m\n"
     ]
    },
    {
     "data": {
      "text/html": [
       "<pre style=\"white-space:pre;overflow-x:auto;line-height:normal;font-family:Menlo,'DejaVu Sans Mono',consolas,'Courier New',monospace\">/Users/rohansreerama/anaconda3/envs/sky_test_03/lib/python3.10/site-packages/rich/live.py:231: UserWarning: install\n",
       "\"ipywidgets\" for Jupyter support\n",
       "  warnings.warn('install \"ipywidgets\" for Jupyter support')\n",
       "</pre>\n"
      ],
      "text/plain": [
       "/Users/rohansreerama/anaconda3/envs/sky_test_03/lib/python3.10/site-packages/rich/live.py:231: UserWarning: install\n",
       "\"ipywidgets\" for Jupyter support\n",
       "  warnings.warn('install \"ipywidgets\" for Jupyter support')\n"
      ]
     },
     "metadata": {},
     "output_type": "display_data"
    },
    {
     "data": {
      "text/html": [
       "<pre style=\"white-space:pre;overflow-x:auto;line-height:normal;font-family:Menlo,'DejaVu Sans Mono',consolas,'Courier New',monospace\"></pre>\n"
      ],
      "text/plain": []
     },
     "metadata": {},
     "output_type": "display_data"
    },
    {
     "name": "stdout",
     "output_type": "stream",
     "text": [
      "I 12-03 21:18:13 cloud_vm_ray_backend.py:4430] \u001b[36mProcessing file mounts.\u001b[0m\n",
      "I 12-03 21:18:13 cloud_vm_ray_backend.py:4462] To view detailed progress: \u001b[1mtail -n100 -f ~/sky_logs/sky-2023-12-03-21-17-43-341312/file_mounts.log\u001b[0m\n",
      "I 12-03 21:18:13 backend_utils.py:1442] \u001b[36mSyncing (to 1 node): \u001b[1m~/.rh\u001b[0m -> \u001b[1m~/.rh\u001b[0m\n"
     ]
    },
    {
     "data": {
      "text/html": [
       "<pre style=\"white-space:pre;overflow-x:auto;line-height:normal;font-family:Menlo,'DejaVu Sans Mono',consolas,'Courier New',monospace\">/Users/rohansreerama/anaconda3/envs/sky_test_03/lib/python3.10/site-packages/rich/live.py:231: UserWarning: install\n",
       "\"ipywidgets\" for Jupyter support\n",
       "  warnings.warn('install \"ipywidgets\" for Jupyter support')\n",
       "</pre>\n"
      ],
      "text/plain": [
       "/Users/rohansreerama/anaconda3/envs/sky_test_03/lib/python3.10/site-packages/rich/live.py:231: UserWarning: install\n",
       "\"ipywidgets\" for Jupyter support\n",
       "  warnings.warn('install \"ipywidgets\" for Jupyter support')\n"
      ]
     },
     "metadata": {},
     "output_type": "display_data"
    },
    {
     "data": {
      "text/html": [
       "<pre style=\"white-space:pre;overflow-x:auto;line-height:normal;font-family:Menlo,'DejaVu Sans Mono',consolas,'Courier New',monospace\">/Users/rohansreerama/anaconda3/envs/sky_test_03/lib/python3.10/site-packages/rich/live.py:231: UserWarning: install\n",
       "\"ipywidgets\" for Jupyter support\n",
       "  warnings.warn('install \"ipywidgets\" for Jupyter support')\n",
       "</pre>\n"
      ],
      "text/plain": [
       "/Users/rohansreerama/anaconda3/envs/sky_test_03/lib/python3.10/site-packages/rich/live.py:231: UserWarning: install\n",
       "\"ipywidgets\" for Jupyter support\n",
       "  warnings.warn('install \"ipywidgets\" for Jupyter support')\n"
      ]
     },
     "metadata": {},
     "output_type": "display_data"
    },
    {
     "data": {
      "text/html": [
       "<pre style=\"white-space:pre;overflow-x:auto;line-height:normal;font-family:Menlo,'DejaVu Sans Mono',consolas,'Courier New',monospace\"></pre>\n"
      ],
      "text/plain": []
     },
     "metadata": {},
     "output_type": "display_data"
    },
    {
     "name": "stderr",
     "output_type": "stream",
     "text": [
      "/Users/rohansreerama/.sky/port-forward-proxy-cmd.sh: line 48: shuf: command not found\n",
      "usage: sleep seconds\n",
      "Warning: Permanently added '127.0.0.1' (ED25519) to the list of known hosts.\n",
      "Warning: Permanently added '10.123.4.21' (ED25519) to the list of known hosts.\n"
     ]
    },
    {
     "name": "stdout",
     "output_type": "stream",
     "text": [
      "I 12-03 21:18:24 cloud_vm_ray_backend.py:3477] Run commands not specified or empty.\n",
      "Clusters\n",
      "NAME               LAUNCHED      RESOURCES                         STATUS  AUTOSTOP  COMMAND                       \n",
      "cpu-cluster-05     12 secs ago   1x Kubernetes(1CPU--1GB)          UP      (down)    /Users/rohansreerama/anac...  \n",
      "cpu-cluster-final  2 months ago  1x Kubernetes(1CPU--1GB, cpus=1)  UP      (down)    /Users/rohansreerama/anac...  \n",
      "\n",
      "\u001b[?25h"
     ]
    },
    {
     "name": "stderr",
     "output_type": "stream",
     "text": [
      "/Users/rohansreerama/anaconda3/envs/sky_test_03/lib/python3.10/site-packages/rich/live.py:231: UserWarning: install \"ipywidgets\" for Jupyter support\n",
      "  warnings.warn('install \"ipywidgets\" for Jupyter support')\n",
      "/Users/rohansreerama/anaconda3/envs/sky_test_03/lib/python3.10/site-packages/rich/live.py:231: UserWarning: install \"ipywidgets\" for Jupyter support\n",
      "  warnings.warn('install \"ipywidgets\" for Jupyter support')\n"
     ]
    },
    {
     "data": {
      "text/html": [
       "<pre style=\"white-space:pre;overflow-x:auto;line-height:normal;font-family:Menlo,'DejaVu Sans Mono',consolas,'Courier New',monospace\"></pre>\n"
      ],
      "text/plain": []
     },
     "metadata": {},
     "output_type": "display_data"
    },
    {
     "data": {
      "text/html": [
       "<pre style=\"white-space:pre;overflow-x:auto;line-height:normal;font-family:Menlo,'DejaVu Sans Mono',consolas,'Courier New',monospace\">\n",
       "</pre>\n"
      ],
      "text/plain": [
       "\n"
      ]
     },
     "metadata": {},
     "output_type": "display_data"
    },
    {
     "name": "stderr",
     "output_type": "stream",
     "text": [
      "INFO | 2023-12-04 05:18:29.980642 | Restarting HTTP server on cpu-cluster-05.\n",
      "INFO | 2023-12-04 05:18:29.981917 | Running command: ssh -T -i ~/.ssh/sky-key -o StrictHostKeyChecking=no -o UserKnownHostsFile=/dev/null -o IdentitiesOnly=yes -o ExitOnForwardFailure=yes -o ServerAliveInterval=5 -o ServerAliveCountMax=3 -o ConnectTimeout=30s -o ForwardAgent=yes -o ControlMaster=auto -o ControlPath=/tmp/skypilot_ssh_rohansreerama/6cc065f7e1/%C -o ControlPersist=300s -o ProxyCommand='ssh -tt -i ~/.ssh/sky-key -o StrictHostKeyChecking=no -o UserKnownHostsFile=/dev/null -o IdentitiesOnly=yes -W %h:%p sky@127.0.0.1 -o ProxyCommand='\"'\"'/Users/rohansreerama/.sky/port-forward-proxy-cmd.sh'\"'\"' ' sky@10.123.4.21 'bash --login -c -i '\"'\"'true && source ~/.bashrc && export OMP_NUM_THREADS=1 PYTHONWARNINGS=ignore && (mkdir -p ~/runhouse/)'\"'\"' 2>&1'\n",
      "INFO | 2023-12-04 05:18:39.491094 | Running command on cpu-cluster-05: python3 -m pip install ./runhouse\n",
      "INFO | 2023-12-04 05:18:39.492936 | Running command: ssh -T -i ~/.ssh/sky-key -o StrictHostKeyChecking=no -o UserKnownHostsFile=/dev/null -o IdentitiesOnly=yes -o ExitOnForwardFailure=yes -o ServerAliveInterval=5 -o ServerAliveCountMax=3 -o ConnectTimeout=30s -o ForwardAgent=yes -o ControlMaster=auto -o ControlPath=/tmp/skypilot_ssh_rohansreerama/6cc065f7e1/%C -o ControlPersist=300s -o ProxyCommand='ssh -tt -i ~/.ssh/sky-key -o StrictHostKeyChecking=no -o UserKnownHostsFile=/dev/null -o IdentitiesOnly=yes -W %h:%p sky@127.0.0.1 -o ProxyCommand='\"'\"'/Users/rohansreerama/.sky/port-forward-proxy-cmd.sh'\"'\"' ' sky@10.123.4.21 'bash --login -c -i '\"'\"'true && source ~/.bashrc && export OMP_NUM_THREADS=1 PYTHONWARNINGS=ignore && (python3 -m pip install ./runhouse)'\"'\"' 2>&1'\n"
     ]
    },
    {
     "name": "stdout",
     "output_type": "stream",
     "text": [
      "Defaulting to user installation because normal site-packages is not writeable\n",
      "Processing ./runhouse\n",
      "  Preparing metadata (setup.py): started\n",
      "  Preparing metadata (setup.py): finished with status 'done'\n",
      "Requirement already satisfied: wheel in /opt/conda/lib/python3.10/site-packages (from runhouse==0.0.13) (0.37.1)\n",
      "Requirement already satisfied: rich in ./.local/lib/python3.10/site-packages (from runhouse==0.0.13) (13.5.2)\n",
      "Collecting fsspec<=2023.5.0\n",
      "  Downloading fsspec-2023.5.0-py3-none-any.whl (160 kB)\n",
      "     ━━━━━━━━━━━━━━━━━━━━━━━━━━━━━━━━━━━━━━ 160.1/160.1 kB 23.7 MB/s eta 0:00:00\n",
      "Collecting pyarrow\n",
      "  Downloading pyarrow-14.0.1-cp310-cp310-manylinux_2_28_x86_64.whl (38.0 MB)\n",
      "     ━━━━━━━━━━━━━━━━━━━━━━━━━━━━━━━━━━━━━━━━ 38.0/38.0 MB 50.5 MB/s eta 0:00:00\n",
      "Collecting sshtunnel>=0.3.0\n",
      "  Downloading sshtunnel-0.4.0-py2.py3-none-any.whl (24 kB)\n",
      "Collecting sshfs\n",
      "  Downloading sshfs-2023.10.0-py3-none-any.whl (15 kB)\n",
      "Collecting typer\n",
      "  Downloading typer-0.9.0-py3-none-any.whl (45 kB)\n",
      "     ━━━━━━━━━━━━━━━━━━━━━━━━━━━━━━━━━━━━━━━━ 45.9/45.9 kB 14.6 MB/s eta 0:00:00\n",
      "Requirement already satisfied: skypilot==0.4.1 in ./.local/lib/python3.10/site-packages (from runhouse==0.0.13) (0.4.1)\n",
      "Collecting sentry-sdk\n",
      "  Downloading sentry_sdk-1.38.0-py2.py3-none-any.whl (252 kB)\n",
      "     ━━━━━━━━━━━━━━━━━━━━━━━━━━━━━━━━━━━━━━ 252.8/252.8 kB 59.7 MB/s eta 0:00:00\n",
      "Collecting fastapi\n",
      "  Downloading fastapi-0.104.1-py3-none-any.whl (92 kB)\n",
      "     ━━━━━━━━━━━━━━━━━━━━━━━━━━━━━━━━━━━━━━━━ 92.9/92.9 kB 31.6 MB/s eta 0:00:00\n",
      "Collecting uvicorn\n",
      "  Downloading uvicorn-0.24.0.post1-py3-none-any.whl (59 kB)\n",
      "     ━━━━━━━━━━━━━━━━━━━━━━━━━━━━━━━━━━━━━━━━ 59.7/59.7 kB 21.6 MB/s eta 0:00:00\n",
      "Collecting pyOpenSSL>=23.3.0\n",
      "  Downloading pyOpenSSL-23.3.0-py3-none-any.whl (58 kB)\n",
      "     ━━━━━━━━━━━━━━━━━━━━━━━━━━━━━━━━━━━━━━━━ 58.8/58.8 kB 19.4 MB/s eta 0:00:00\n",
      "Requirement already satisfied: requests in /opt/conda/lib/python3.10/site-packages (from skypilot==0.4.1->runhouse==0.0.13) (2.28.1)\n",
      "Requirement already satisfied: PrettyTable>=2.0.0 in ./.local/lib/python3.10/site-packages (from skypilot==0.4.1->runhouse==0.0.13) (3.9.0)\n",
      "Requirement already satisfied: python-dotenv in ./.local/lib/python3.10/site-packages (from skypilot==0.4.1->runhouse==0.0.13) (1.0.0)\n",
      "Requirement already satisfied: packaging in ./.local/lib/python3.10/site-packages (from skypilot==0.4.1->runhouse==0.0.13) (23.1)\n",
      "Requirement already satisfied: click>=7.0 in ./.local/lib/python3.10/site-packages (from skypilot==0.4.1->runhouse==0.0.13) (8.1.7)\n",
      "Requirement already satisfied: colorama<0.4.5 in ./.local/lib/python3.10/site-packages (from skypilot==0.4.1->runhouse==0.0.13) (0.4.4)\n",
      "Requirement already satisfied: jsonschema in ./.local/lib/python3.10/site-packages (from skypilot==0.4.1->runhouse==0.0.13) (4.19.0)\n",
      "Requirement already satisfied: psutil in ./.local/lib/python3.10/site-packages (from skypilot==0.4.1->runhouse==0.0.13) (5.9.5)\n",
      "Requirement already satisfied: tabulate in ./.local/lib/python3.10/site-packages (from skypilot==0.4.1->runhouse==0.0.13) (0.9.0)\n",
      "Requirement already satisfied: pandas>=1.3.0 in ./.local/lib/python3.10/site-packages (from skypilot==0.4.1->runhouse==0.0.13) (2.1.0)\n",
      "Requirement already satisfied: botocore>=1.29.10 in ./.local/lib/python3.10/site-packages (from skypilot==0.4.1->runhouse==0.0.13) (1.31.49)\n",
      "Requirement already satisfied: filelock>=3.6.0 in ./.local/lib/python3.10/site-packages (from skypilot==0.4.1->runhouse==0.0.13) (3.12.4)\n",
      "Requirement already satisfied: pulp in ./.local/lib/python3.10/site-packages (from skypilot==0.4.1->runhouse==0.0.13) (2.7.0)\n",
      "Requirement already satisfied: cryptography in /opt/conda/lib/python3.10/site-packages (from skypilot==0.4.1->runhouse==0.0.13) (38.0.1)\n",
      "Requirement already satisfied: pendulum in ./.local/lib/python3.10/site-packages (from skypilot==0.4.1->runhouse==0.0.13) (2.1.2)\n",
      "Requirement already satisfied: pyyaml!=5.4.*,>3.13 in ./.local/lib/python3.10/site-packages (from skypilot==0.4.1->runhouse==0.0.13) (6.0.1)\n",
      "Requirement already satisfied: urllib3<2 in /opt/conda/lib/python3.10/site-packages (from skypilot==0.4.1->runhouse==0.0.13) (1.26.13)\n",
      "Requirement already satisfied: awscli>=1.27.10 in ./.local/lib/python3.10/site-packages (from skypilot==0.4.1->runhouse==0.0.13) (1.29.49)\n",
      "Requirement already satisfied: jinja2>=3.0 in ./.local/lib/python3.10/site-packages (from skypilot==0.4.1->runhouse==0.0.13) (3.1.2)\n",
      "Requirement already satisfied: boto3>=1.26.1 in ./.local/lib/python3.10/site-packages (from skypilot==0.4.1->runhouse==0.0.13) (1.28.49)\n",
      "Requirement already satisfied: typing-extensions in ./.local/lib/python3.10/site-packages (from skypilot==0.4.1->runhouse==0.0.13) (4.7.1)\n",
      "Requirement already satisfied: cachetools in ./.local/lib/python3.10/site-packages (from skypilot==0.4.1->runhouse==0.0.13) (5.3.1)\n",
      "Requirement already satisfied: networkx in ./.local/lib/python3.10/site-packages (from skypilot==0.4.1->runhouse==0.0.13) (3.1)\n",
      "Collecting cryptography\n",
      "  Downloading cryptography-41.0.7-cp37-abi3-manylinux_2_28_x86_64.whl (4.4 MB)\n",
      "     ━━━━━━━━━━━━━━━━━━━━━━━━━━━━━━━━━━━━━━━━ 4.4/4.4 MB 135.8 MB/s eta 0:00:00\n",
      "Collecting paramiko>=2.7.2\n",
      "  Downloading paramiko-3.3.1-py3-none-any.whl (224 kB)\n",
      "     ━━━━━━━━━━━━━━━━━━━━━━━━━━━━━━━━━━━━━━ 224.8/224.8 kB 63.1 MB/s eta 0:00:00\n",
      "Collecting starlette<0.28.0,>=0.27.0\n",
      "  Downloading starlette-0.27.0-py3-none-any.whl (66 kB)\n",
      "     ━━━━━━━━━━━━━━━━━━━━━━━━━━━━━━━━━━━━━━━━ 67.0/67.0 kB 21.2 MB/s eta 0:00:00\n",
      "Collecting anyio<4.0.0,>=3.7.1\n",
      "  Downloading anyio-3.7.1-py3-none-any.whl (80 kB)\n",
      "     ━━━━━━━━━━━━━━━━━━━━━━━━━━━━━━━━━━━━━━━━ 80.9/80.9 kB 29.8 MB/s eta 0:00:00\n",
      "Collecting typing-extensions\n",
      "  Downloading typing_extensions-4.8.0-py3-none-any.whl (31 kB)\n",
      "Requirement already satisfied: pydantic!=1.8,!=1.8.1,!=2.0.0,!=2.0.1,!=2.1.0,<3.0.0,>=1.7.4 in ./.local/lib/python3.10/site-packages (from fastapi->runhouse==0.0.13) (1.10.12)\n",
      "Requirement already satisfied: numpy>=1.16.6 in ./.local/lib/python3.10/site-packages (from pyarrow->runhouse==0.0.13) (1.25.2)\n",
      "Requirement already satisfied: markdown-it-py>=2.2.0 in ./.local/lib/python3.10/site-packages (from rich->runhouse==0.0.13) (3.0.0)\n",
      "Requirement already satisfied: pygments<3.0.0,>=2.13.0 in ./.local/lib/python3.10/site-packages (from rich->runhouse==0.0.13) (2.16.1)\n",
      "Requirement already satisfied: certifi in /opt/conda/lib/python3.10/site-packages (from sentry-sdk->runhouse==0.0.13) (2022.12.7)\n",
      "Collecting asyncssh<3,>=2.11.0\n",
      "  Downloading asyncssh-2.14.1-py3-none-any.whl (352 kB)\n",
      "     ━━━━━━━━━━━━━━━━━━━━━━━━━━━━━━━━━━━━━━ 352.2/352.2 kB 79.0 MB/s eta 0:00:00\n",
      "Collecting h11>=0.8\n",
      "  Downloading h11-0.14.0-py3-none-any.whl (58 kB)\n",
      "     ━━━━━━━━━━━━━━━━━━━━━━━━━━━━━━━━━━━━━━━━ 58.3/58.3 kB 20.8 MB/s eta 0:00:00\n",
      "Requirement already satisfied: idna>=2.8 in /opt/conda/lib/python3.10/site-packages (from anyio<4.0.0,>=3.7.1->fastapi->runhouse==0.0.13) (3.4)\n",
      "Collecting sniffio>=1.1\n",
      "  Downloading sniffio-1.3.0-py3-none-any.whl (10 kB)\n",
      "Collecting exceptiongroup\n",
      "  Downloading exceptiongroup-1.2.0-py3-none-any.whl (16 kB)\n",
      "Requirement already satisfied: docutils<0.17,>=0.10 in ./.local/lib/python3.10/site-packages (from awscli>=1.27.10->skypilot==0.4.1->runhouse==0.0.13) (0.16)\n",
      "Requirement already satisfied: rsa<4.8,>=3.1.2 in ./.local/lib/python3.10/site-packages (from awscli>=1.27.10->skypilot==0.4.1->runhouse==0.0.13) (4.7.2)\n",
      "Requirement already satisfied: s3transfer<0.7.0,>=0.6.0 in ./.local/lib/python3.10/site-packages (from awscli>=1.27.10->skypilot==0.4.1->runhouse==0.0.13) (0.6.2)\n",
      "Requirement already satisfied: python-dateutil<3.0.0,>=2.1 in ./.local/lib/python3.10/site-packages (from botocore>=1.29.10->skypilot==0.4.1->runhouse==0.0.13) (2.8.2)\n",
      "Requirement already satisfied: jmespath<2.0.0,>=0.7.1 in ./.local/lib/python3.10/site-packages (from botocore>=1.29.10->skypilot==0.4.1->runhouse==0.0.13) (1.0.1)\n",
      "Requirement already satisfied: cffi>=1.12 in /opt/conda/lib/python3.10/site-packages (from cryptography->skypilot==0.4.1->runhouse==0.0.13) (1.15.1)\n",
      "Requirement already satisfied: MarkupSafe>=2.0 in ./.local/lib/python3.10/site-packages (from jinja2>=3.0->skypilot==0.4.1->runhouse==0.0.13) (2.1.3)\n",
      "Requirement already satisfied: mdurl~=0.1 in ./.local/lib/python3.10/site-packages (from markdown-it-py>=2.2.0->rich->runhouse==0.0.13) (0.1.2)\n",
      "Requirement already satisfied: pytz>=2020.1 in ./.local/lib/python3.10/site-packages (from pandas>=1.3.0->skypilot==0.4.1->runhouse==0.0.13) (2023.3.post1)\n",
      "Requirement already satisfied: tzdata>=2022.1 in ./.local/lib/python3.10/site-packages (from pandas>=1.3.0->skypilot==0.4.1->runhouse==0.0.13) (2023.3)\n",
      "Collecting pynacl>=1.5\n",
      "  Downloading PyNaCl-1.5.0-cp36-abi3-manylinux_2_17_x86_64.manylinux2014_x86_64.manylinux_2_24_x86_64.whl (856 kB)\n",
      "     ━━━━━━━━━━━━━━━━━━━━━━━━━━━━━━━━━━━━━ 856.7/856.7 kB 112.8 MB/s eta 0:00:00\n",
      "Collecting bcrypt>=3.2\n",
      "  Downloading bcrypt-4.1.1-cp37-abi3-manylinux_2_28_x86_64.whl (699 kB)\n",
      "     ━━━━━━━━━━━━━━━━━━━━━━━━━━━━━━━━━━━━━━ 699.4/699.4 kB 79.9 MB/s eta 0:00:00\n",
      "Requirement already satisfied: wcwidth in ./.local/lib/python3.10/site-packages (from PrettyTable>=2.0.0->skypilot==0.4.1->runhouse==0.0.13) (0.2.6)\n",
      "Requirement already satisfied: attrs>=22.2.0 in ./.local/lib/python3.10/site-packages (from jsonschema->skypilot==0.4.1->runhouse==0.0.13) (23.1.0)\n",
      "Requirement already satisfied: referencing>=0.28.4 in ./.local/lib/python3.10/site-packages (from jsonschema->skypilot==0.4.1->runhouse==0.0.13) (0.30.2)\n",
      "Requirement already satisfied: rpds-py>=0.7.1 in ./.local/lib/python3.10/site-packages (from jsonschema->skypilot==0.4.1->runhouse==0.0.13) (0.10.3)\n",
      "Requirement already satisfied: jsonschema-specifications>=2023.03.6 in ./.local/lib/python3.10/site-packages (from jsonschema->skypilot==0.4.1->runhouse==0.0.13) (2023.7.1)\n",
      "Requirement already satisfied: pytzdata>=2020.1 in ./.local/lib/python3.10/site-packages (from pendulum->skypilot==0.4.1->runhouse==0.0.13) (2020.1)\n",
      "Requirement already satisfied: charset-normalizer<3,>=2 in /opt/conda/lib/python3.10/site-packages (from requests->skypilot==0.4.1->runhouse==0.0.13) (2.0.4)\n",
      "Requirement already satisfied: pycparser in /opt/conda/lib/python3.10/site-packages (from cffi>=1.12->cryptography->skypilot==0.4.1->runhouse==0.0.13) (2.21)\n",
      "Requirement already satisfied: six>=1.5 in /opt/conda/lib/python3.10/site-packages (from python-dateutil<3.0.0,>=2.1->botocore>=1.29.10->skypilot==0.4.1->runhouse==0.0.13) (1.16.0)\n",
      "Requirement already satisfied: pyasn1>=0.1.3 in ./.local/lib/python3.10/site-packages (from rsa<4.8,>=3.1.2->awscli>=1.27.10->skypilot==0.4.1->runhouse==0.0.13) (0.5.0)\n",
      "Building wheels for collected packages: runhouse\n",
      "  Building wheel for runhouse (setup.py): started\n",
      "  Building wheel for runhouse (setup.py): finished with status 'done'\n",
      "  Created wheel for runhouse: filename=runhouse-0.0.13-py3-none-any.whl size=182729 sha256=1941d8b18aa56acf3c2dabf9752252b0f9245d1b96a7ad63f9b507872cddb4f6\n",
      "  Stored in directory: /tmp/pip-ephem-wheel-cache-fe4g40fs/wheels/14/c0/a2/7d89dce63624f712fd3904874f3ed8ce2b4464ab218b7cb014\n",
      "Successfully built runhouse\n",
      "Installing collected packages: typing-extensions, sniffio, sentry-sdk, pyarrow, h11, fsspec, exceptiongroup, bcrypt, uvicorn, typer, pynacl, cryptography, anyio, starlette, pyOpenSSL, paramiko, asyncssh, sshtunnel, sshfs, fastapi, runhouse\n",
      "  Attempting uninstall: typing-extensions\n",
      "    Found existing installation: typing_extensions 4.7.1\n",
      "    Uninstalling typing_extensions-4.7.1:\n",
      "      Successfully uninstalled typing_extensions-4.7.1\n",
      "Successfully installed anyio-3.7.1 asyncssh-2.14.1 bcrypt-4.1.1 cryptography-41.0.7 exceptiongroup-1.2.0 fastapi-0.104.1 fsspec-2023.5.0 h11-0.14.0 paramiko-3.3.1 pyOpenSSL-23.3.0 pyarrow-14.0.1 pynacl-1.5.0 runhouse-0.0.13 sentry-sdk-1.38.0 sniffio-1.3.0 sshfs-2023.10.0 sshtunnel-0.4.0 starlette-0.27.0 typer-0.9.0 typing-extensions-4.8.0 uvicorn-0.24.0.post1\n"
     ]
    },
    {
     "name": "stderr",
     "output_type": "stream",
     "text": [
      "INFO | 2023-12-04 05:18:45.689634 | Running command on cpu-cluster-05: runhouse restart\n",
      "INFO | 2023-12-04 05:18:45.691394 | Running command: ssh -T -i ~/.ssh/sky-key -o StrictHostKeyChecking=no -o UserKnownHostsFile=/dev/null -o IdentitiesOnly=yes -o ExitOnForwardFailure=yes -o ServerAliveInterval=5 -o ServerAliveCountMax=3 -o ConnectTimeout=30s -o ForwardAgent=yes -o ControlMaster=auto -o ControlPath=/tmp/skypilot_ssh_rohansreerama/6cc065f7e1/%C -o ControlPersist=300s -o ProxyCommand='ssh -tt -i ~/.ssh/sky-key -o StrictHostKeyChecking=no -o UserKnownHostsFile=/dev/null -o IdentitiesOnly=yes -W %h:%p sky@127.0.0.1 -o ProxyCommand='\"'\"'/Users/rohansreerama/.sky/port-forward-proxy-cmd.sh'\"'\"' ' sky@10.123.4.21 'bash --login -c -i '\"'\"'true && source ~/.bashrc && export OMP_NUM_THREADS=1 PYTHONWARNINGS=ignore && (runhouse restart)'\"'\"' 2>&1'\n"
     ]
    },
    {
     "name": "stdout",
     "output_type": "stream",
     "text": [
      "Executing `pkill -f \"/opt/conda/bin/python3 -m \n",
      "runhouse.servers.http.http_server\"`\n",
      "Executing `pkill -f \".*ray.*6379.*\"`\n",
      "Executing `ray start --head --port 6379`\n",
      "2023-12-04 05:18:48,470\tINFO usage_lib.py:398 -- Usage stats collection is enabled by default without user confirmation because this terminal is detected to be non-interactive. To disable this, add `--disable-usage-stats` to the command that starts the cluster, or run the following command: `ray disable-usage-stats` before starting the cluster. See https://docs.ray.io/en/master/cluster/usage-stats.html for more details.\n",
      "2023-12-04 05:18:48,471\tINFO scripts.py:710 -- \u001b[37mLocal node IP\u001b[39m: \u001b[1m10.123.4.21\u001b[22m\n",
      "2023-12-04 05:18:50,351\tSUCC scripts.py:747 -- \u001b[32m--------------------\u001b[39m\n",
      "2023-12-04 05:18:50,352\tSUCC scripts.py:748 -- \u001b[32mRay runtime started.\u001b[39m\n",
      "2023-12-04 05:18:50,352\tSUCC scripts.py:749 -- \u001b[32m--------------------\u001b[39m\n",
      "2023-12-04 05:18:50,352\tINFO scripts.py:751 -- \u001b[36mNext steps\u001b[39m\n",
      "2023-12-04 05:18:50,352\tINFO scripts.py:754 -- To add another node to this Ray cluster, run\n",
      "2023-12-04 05:18:50,352\tINFO scripts.py:757 -- \u001b[1m  ray start --address='10.123.4.21:6379'\u001b[22m\n",
      "2023-12-04 05:18:50,352\tINFO scripts.py:766 -- To connect to this Ray cluster:\n",
      "2023-12-04 05:18:50,352\tINFO scripts.py:768 -- \u001b[35mimport\u001b[39m\u001b[26m ray\n",
      "2023-12-04 05:18:50,353\tINFO scripts.py:769 -- ray\u001b[35m.\u001b[39m\u001b[26minit()\n",
      "2023-12-04 05:18:50,353\tINFO scripts.py:781 -- To submit a Ray job using the Ray Jobs CLI:\n",
      "2023-12-04 05:18:50,353\tINFO scripts.py:782 -- \u001b[1m  RAY_ADDRESS='http://127.0.0.1:8265' ray job submit --working-dir . -- python my_script.py\u001b[22m\n",
      "2023-12-04 05:18:50,353\tINFO scripts.py:791 -- See https://docs.ray.io/en/latest/cluster/running-applications/job-submission/index.html \n",
      "2023-12-04 05:18:50,353\tINFO scripts.py:795 -- for more information on submitting Ray jobs to the Ray cluster.\n",
      "2023-12-04 05:18:50,353\tINFO scripts.py:800 -- To terminate the Ray runtime, run\n",
      "2023-12-04 05:18:50,353\tINFO scripts.py:801 -- \u001b[1m  ray stop\u001b[22m\n",
      "2023-12-04 05:18:50,353\tINFO scripts.py:804 -- To view the status of the cluster, use\n",
      "2023-12-04 05:18:50,353\tINFO scripts.py:805 --   \u001b[1mray status\u001b[22m\u001b[26m\n",
      "2023-12-04 05:18:50,353\tINFO scripts.py:809 -- To monitor and debug Ray, view the dashboard at \n",
      "2023-12-04 05:18:50,353\tINFO scripts.py:810 --   \u001b[1m127.0.0.1:8265\u001b[22m\u001b[26m\n",
      "2023-12-04 05:18:50,353\tINFO scripts.py:817 -- \u001b[4mIf connection to the dashboard fails, check your firewall settings and network configuration.\u001b[24m\n",
      "Executing `nohup /opt/conda/bin/python -m runhouse.servers.http.http_server >> \n",
      "/home/sky/.rh/server.log 2>&1 &`\n"
     ]
    },
    {
     "data": {
      "text/plain": [
       "<runhouse.resources.hardware.kubernetes_cluster.KubernetesCluster at 0x12e184910>"
      ]
     },
     "execution_count": 3,
     "metadata": {},
     "output_type": "execute_result"
    }
   ],
   "source": [
    "cluster.up_if_not()"
   ]
  },
  {
   "cell_type": "code",
   "execution_count": 4,
   "metadata": {},
   "outputs": [],
   "source": [
    "def num_cpus():\n",
    "    import multiprocessing\n",
    "    return f\"Num cpus: {multiprocessing.cpu_count()}\""
   ]
  },
  {
   "cell_type": "code",
   "execution_count": 5,
   "metadata": {},
   "outputs": [
    {
     "name": "stderr",
     "output_type": "stream",
     "text": [
      "INFO | 2023-12-04 05:19:06.066956 | Writing out function to /Users/rohansreerama/Desktop/test_old_sky/runhouse/num_cpus_fn.py. Please make sure the function does not rely on any local variables, including imports (which should be moved inside the function body).\n",
      "/Users/rohansreerama/Desktop/test_old_sky/runhouse/runhouse/resources/function.py:100: UserWarning: ``reqs`` and ``setup_cmds`` arguments has been deprecated. Please use ``env`` instead.\n",
      "  warnings.warn(\n",
      "INFO | 2023-12-04 05:19:06.069351 | Setting up Function on cluster.\n",
      "INFO | 2023-12-04 05:19:06.069725 | Forwarding port 50052 to port 50052 on localhost.\n",
      "INFO | 2023-12-04 05:19:06.070352 | Running command: ssh -T -L 50052:localhost:50052 -i ~/.ssh/sky-key -o StrictHostKeyChecking=no -o UserKnownHostsFile=/dev/null -o IdentitiesOnly=yes -o ExitOnForwardFailure=yes -o ServerAliveInterval=5 -o ServerAliveCountMax=3 -o ConnectTimeout=30s -o ForwardAgent=yes -o ControlMaster=auto -o ControlPath=/tmp/skypilot_ssh_rohansreerama/6cc065f7e1/%C -o ControlPersist=300s -o ProxyCommand='ssh -tt -i ~/.ssh/sky-key -o StrictHostKeyChecking=no -o UserKnownHostsFile=/dev/null -o IdentitiesOnly=yes -W %h:%p sky@127.0.0.1 -o ProxyCommand='\"'\"'/Users/rohansreerama/.sky/port-forward-proxy-cmd.sh'\"'\"' ' sky@10.123.4.21 tail\n",
      "INFO | 2023-12-04 05:19:09.083616 | Checking server cpu-cluster-05\n",
      "INFO | 2023-12-04 05:19:10.297461 | Server cpu-cluster-05 is up.\n",
      "INFO | 2023-12-04 05:19:10.300479 | Copying package from file:///Users/rohansreerama/Desktop/test_old_sky/runhouse to: cpu-cluster-05\n",
      "INFO | 2023-12-04 05:19:10.301777 | Running command: ssh -T -i ~/.ssh/sky-key -o StrictHostKeyChecking=no -o UserKnownHostsFile=/dev/null -o IdentitiesOnly=yes -o ExitOnForwardFailure=yes -o ServerAliveInterval=5 -o ServerAliveCountMax=3 -o ConnectTimeout=30s -o ForwardAgent=yes -o ControlMaster=auto -o ControlPath=/tmp/skypilot_ssh_rohansreerama/6cc065f7e1/%C -o ControlPersist=300s -o ProxyCommand='ssh -tt -i ~/.ssh/sky-key -o StrictHostKeyChecking=no -o UserKnownHostsFile=/dev/null -o IdentitiesOnly=yes -W %h:%p sky@127.0.0.1 -o ProxyCommand='\"'\"'/Users/rohansreerama/.sky/port-forward-proxy-cmd.sh'\"'\"' ' sky@10.123.4.21 'bash --login -c -i '\"'\"'true && source ~/.bashrc && export OMP_NUM_THREADS=1 PYTHONWARNINGS=ignore && (mkdir -p ~/runhouse/)'\"'\"' 2>&1'\n",
      "INFO | 2023-12-04 05:19:13.344834 | Calling base_env.install\n"
     ]
    },
    {
     "name": "stdout",
     "output_type": "stream",
     "text": [
      "base_env servlet: Calling method install on module base_env\n",
      "Installing package: Package: runhouse\n",
      "Installing Package: runhouse with method reqs.\n",
      "reqs path: runhouse/requirements.txt\n",
      "pip installing requirements from runhouse/requirements.txt with: -r runhouse/requirements.txt\n",
      "Running: /opt/conda/bin/python -m pip install -r runhouse/requirements.txt\n"
     ]
    },
    {
     "name": "stderr",
     "output_type": "stream",
     "text": [
      "INFO | 2023-12-04 05:19:15.434909 | Time to call base_env.install: 2.09 seconds\n",
      "INFO | 2023-12-04 05:19:15.735038 | Function setup complete.\n"
     ]
    }
   ],
   "source": [
    "num_cpus_cluster = rh.function(name=\"num_cpus_cluster\", fn=num_cpus).to(system=cluster, reqs=[\"./\"])"
   ]
  },
  {
   "cell_type": "code",
   "execution_count": 6,
   "metadata": {},
   "outputs": [
    {
     "name": "stderr",
     "output_type": "stream",
     "text": [
      "INFO | 2023-12-04 05:19:29.937615 | Calling num_cpus_cluster.call\n"
     ]
    },
    {
     "name": "stdout",
     "output_type": "stream",
     "text": [
      "base_env servlet: Calling method call on module num_cpus_cluster\n"
     ]
    },
    {
     "name": "stderr",
     "output_type": "stream",
     "text": [
      "INFO | 2023-12-04 05:19:30.355970 | Time to call num_cpus_cluster.call: 0.42 seconds\n"
     ]
    },
    {
     "data": {
      "text/plain": [
       "'Num cpus: 4'"
      ]
     },
     "execution_count": 6,
     "metadata": {},
     "output_type": "execute_result"
    }
   ],
   "source": [
    "num_cpus_cluster()"
   ]
  }
 ],
 "metadata": {
  "kernelspec": {
   "display_name": "rh_fin_1",
   "language": "python",
   "name": "python3"
  },
  "language_info": {
   "codemirror_mode": {
    "name": "ipython",
    "version": 3
   },
   "file_extension": ".py",
   "mimetype": "text/x-python",
   "name": "python",
   "nbconvert_exporter": "python",
   "pygments_lexer": "ipython3",
   "version": "3.10.8"
  },
  "orig_nbformat": 4
 },
 "nbformat": 4,
 "nbformat_minor": 2
}
